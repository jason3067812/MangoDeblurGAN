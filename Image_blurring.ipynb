{
 "cells": [
  {
   "cell_type": "markdown",
   "metadata": {},
   "source": [
    "### check path,picture"
   ]
  },
  {
   "cell_type": "code",
   "execution_count": null,
   "metadata": {
    "collapsed": true
   },
   "outputs": [],
   "source": [
    "import cv2 \n",
    "import numpy as np \n",
    "  \n",
    "img = cv2.imread(\"D:/blur_DEV_A/00073.jpg\") \n",
    "\n",
    "cv2.imshow(\"image\", img)  # 顯示圖片,opencv預設讀取圖片的資料為: (高，寬，通道(B，G，R))。\n",
    "cv2.waitKey(0)"
   ]
  },
  {
   "cell_type": "markdown",
   "metadata": {},
   "source": [
    "## gaussian blur(kernel:17,19,21)"
   ]
  },
  {
   "cell_type": "code",
   "execution_count": null,
   "metadata": {
    "collapsed": true
   },
   "outputs": [],
   "source": [
    "import numpy as np\n",
    "import cv2\n",
    "import os\n",
    "import random\n",
    "\n",
    "\n",
    "# 修改路徑\n",
    "directory_name=\"D:\\OCR\\id\\test1\"\n",
    "new_directory_name='D:/gaussinblur_trainA'\n",
    "\n",
    "# 調參區\n",
    "sigma = 15              #0,1.5,3,4.5.....\n",
    "\n",
    "a=0\n",
    "b=0\n",
    "c=0\n",
    "count=0\n",
    "for filename in os.listdir(directory_name):\n",
    "    \n",
    "    \n",
    "    count=count+1\n",
    "    import random\n",
    "\n",
    "    k=random.randint(0,2)\n",
    "    if k==0:\n",
    "        a=a+1\n",
    "        kernel_size = (17,17)\n",
    "    if k==1:\n",
    "        b=b+1\n",
    "        kernel_size = (19,19)\n",
    "    if k==2:\n",
    "        c=c+1\n",
    "        kernel_size = (21,21)\n",
    "    \n",
    "    \n",
    "    img = cv2.imread(directory_name + \"/\" + filename)\n",
    "    Gaussian = cv2.GaussianBlur(img, kernel_size, sigma)\n",
    "    cv2.imwrite(new_directory_name + \"/\" + filename, Gaussian)\n",
    "    \n",
    "    \n",
    "print(\"finish\")\n",
    "print(f\"total number:{count}\")\n",
    "print(f\"17:{a}張, 19:{b}張, 21:{c}張\")"
   ]
  },
  {
   "cell_type": "markdown",
   "metadata": {},
   "source": [
    "### motion blur (amplitude:30-35,4 directions,all in random)"
   ]
  },
  {
   "cell_type": "code",
   "execution_count": 2,
   "metadata": {},
   "outputs": [
    {
     "name": "stdout",
     "output_type": "stream",
     "text": [
      "finish\n",
      "total number:2\n",
      "horizonal:1, vertical:0, diagonal_right:0, diagonal_left:1\n"
     ]
    }
   ],
   "source": [
    "import numpy as np\n",
    "import cv2\n",
    "import os\n",
    "import random\n",
    "\n",
    "\n",
    "\n",
    "#change path\n",
    "directory_name=\"D:/test\"\n",
    "new_directory_name='D:/test2'\n",
    "       \n",
    "count=0\n",
    "c1=0\n",
    "c2=0\n",
    "c3=0\n",
    "c4=0\n",
    "    \n",
    "# this loop is for read each image in this foder,directory_name is the foder name with images.\n",
    "for filename in os.listdir(directory_name):\n",
    "    \n",
    "    count=count+1\n",
    "    \n",
    "    #change amplitude range\n",
    "    k=random.randint(10,20)\n",
    "            \n",
    "        \n",
    "    #print(filename) #just for test\n",
    "    #img is used to store the image data \n",
    "    img = cv2.imread(directory_name + \"/\" + filename)\n",
    "       \n",
    "    # Specify the kernel size. \n",
    "    # The greater the size, the more the motion. \n",
    "    kernel_size = k\n",
    "        \n",
    "    version=random.randint(1,4)  # 1:horizonal, 2:vertical, 3:diagonal_right, 4:diagonal_left\n",
    "        \n",
    "    if version==1:\n",
    "        \n",
    "        c1=c1+1\n",
    "        \n",
    "        # Create the horizontal kernel. \n",
    "        kernel_h = np.zeros((kernel_size, kernel_size))\n",
    "        # Fill the middle row with ones.\n",
    "        kernel_h[int((kernel_size - 1)/2), :] = np.ones(kernel_size)\n",
    "        # Normalize.\n",
    "        kernel_h /= kernel_size \n",
    "        # Apply the horizontal kernel. \n",
    "        horizonal_mb = cv2.filter2D(img, -1, kernel_h) \n",
    "        # Save the outputs.\n",
    "        cv2.imwrite(new_directory_name + \"/\" + filename, horizonal_mb)\n",
    "                \n",
    "    if version==2:\n",
    "        \n",
    "        c2=c2+1\n",
    "        \n",
    "        # Create the vertical kernel. \n",
    "        kernel_v = np.zeros((kernel_size, kernel_size))\n",
    "        kernel_v[:, int((kernel_size - 1)/2)] = np.ones(kernel_size)      \n",
    "        kernel_v /= kernel_size  \n",
    "        vertical_mb = cv2.filter2D(img, -1, kernel_v)\n",
    "        cv2.imwrite(new_directory_name + \"/\" + filename, vertical_mb)\n",
    "             \n",
    "    if version==3:\n",
    "        \n",
    "        c3=c3+1\n",
    "        \n",
    "        # Create the diagonal_right kernel.\n",
    "        kernel_dr=np.zeros((kernel_size, kernel_size))\n",
    "        i=kernel_size-1\n",
    "        c=0\n",
    "        while i >=0:    \n",
    "            kernel_dr[i,c]=1\n",
    "            i=i-1\n",
    "            c=c+1\n",
    "        kernel_dr /= kernel_size  \n",
    "        diagonal_right_mb = cv2.filter2D(img, -1, kernel_dr)\n",
    "        cv2.imwrite(new_directory_name + \"/\" + filename, diagonal_right_mb)\n",
    "        \n",
    "    if version==4:\n",
    "        \n",
    "        c4=c4+1\n",
    "        \n",
    "        # Create the diagonal_left kernel.\n",
    "        kernel_dl=np.zeros((kernel_size, kernel_size))\n",
    "        i=kernel_size-1\n",
    "        while i >=0:    \n",
    "            kernel_dl[i,i]=1\n",
    "            i=i-1\n",
    "        kernel_dl /= kernel_size  \n",
    "        diagonal_left_mb = cv2.filter2D(img, -1, kernel_dl)\n",
    "        cv2.imwrite(new_directory_name + \"/\" + filename, diagonal_left_mb)\n",
    "\n",
    "\n",
    "print(\"finish\")\n",
    "print(f\"total number:{count}\")\n",
    "print(f\"horizonal:{c1}, vertical:{c2}, diagonal_right:{c3}, diagonal_left:{c4}\")"
   ]
  },
  {
   "cell_type": "code",
   "execution_count": null,
   "metadata": {
    "collapsed": true
   },
   "outputs": [],
   "source": []
  }
 ],
 "metadata": {
  "kernelspec": {
   "display_name": "Python 3",
   "language": "python",
   "name": "python3"
  },
  "language_info": {
   "codemirror_mode": {
    "name": "ipython",
    "version": 3
   },
   "file_extension": ".py",
   "mimetype": "text/x-python",
   "name": "python",
   "nbconvert_exporter": "python",
   "pygments_lexer": "ipython3",
   "version": "3.8.11"
  }
 },
 "nbformat": 4,
 "nbformat_minor": 2
}
